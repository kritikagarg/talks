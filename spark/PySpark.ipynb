{
 "cells": [
  {
   "cell_type": "code",
   "execution_count": 1,
   "metadata": {
    "collapsed": true
   },
   "outputs": [],
   "source": [
    "#Managing Imports\n",
    "from time import time\n",
    "import numpy as np"
   ]
  },
  {
   "cell_type": "code",
   "execution_count": 2,
   "metadata": {
    "collapsed": false
   },
   "outputs": [
    {
     "data": {
      "text/plain": [
       "<pyspark.context.SparkContext at 0x7f5cd4133f50>"
      ]
     },
     "execution_count": 2,
     "metadata": {},
     "output_type": "execute_result"
    }
   ],
   "source": [
    "#This notebook comes with a pre-configured sparkContext called sc\n",
    "sc"
   ]
  },
  {
   "cell_type": "code",
   "execution_count": 3,
   "metadata": {
    "collapsed": false
   },
   "outputs": [
    {
     "name": "stdout",
     "output_type": "stream",
     "text": [
      "<type 'list'>\n",
      "<class 'pyspark.rdd.RDD'>\n"
     ]
    }
   ],
   "source": [
    "#RDDs\n",
    "dummy_list = range(1000)\n",
    "#this is a list\n",
    "print type(dummy_list)\n",
    "rddlist = sc.parallelize(dummy_list)\n",
    "#this is a RDD\n",
    "print type(rddlist)"
   ]
  },
  {
   "cell_type": "code",
   "execution_count": 4,
   "metadata": {
    "collapsed": false
   },
   "outputs": [],
   "source": [
    "#More RDDs\n",
    "file_path = \"data/sequence.txt\"\n",
    "file_rdd = sc.textFile(file_path)\n",
    "json_rdd = sc.textFile(\"data/people.json\")\n",
    "# print json_rdd.collect()\n",
    "# print type(json_rdd.collect())\n",
    "#Spark supports text files, SequenceFiles, and any other Hadoop InputFormat."
   ]
  },
  {
   "cell_type": "code",
   "execution_count": 5,
   "metadata": {
    "collapsed": false
   },
   "outputs": [
    {
     "name": "stdout",
     "output_type": "stream",
     "text": [
      "Time taken (in seconds) = 0.00257301330566\n"
     ]
    }
   ],
   "source": [
    "start_time = time()\n",
    "filtered_rdd = file_rdd.filter(lambda x: len(x) < 2)\n",
    "end_time = time()\n",
    "print \"Time taken (in seconds) = \" + str(end_time - start_time)"
   ]
  },
  {
   "cell_type": "code",
   "execution_count": 6,
   "metadata": {
    "collapsed": false
   },
   "outputs": [
    {
     "name": "stdout",
     "output_type": "stream",
     "text": [
      "Time taken (in seconds) = 5.4690580368\n"
     ]
    }
   ],
   "source": [
    "start_time = time()\n",
    "filtered_data = file_rdd.filter(lambda x: len(x) < 2).collect()\n",
    "end_time = time()\n",
    "print \"Time taken (in seconds) = \" + str(end_time - start_time)"
   ]
  },
  {
   "cell_type": "code",
   "execution_count": 7,
   "metadata": {
    "collapsed": false
   },
   "outputs": [
    {
     "name": "stdout",
     "output_type": "stream",
     "text": [
      "Time taken (in seconds) = 0.000108003616333\n"
     ]
    }
   ],
   "source": [
    "start_time = time()\n",
    "mapped_rdd = file_rdd.map(lambda x: 2*x)\n",
    "end_time = time()\n",
    "print \"Time taken (in seconds) = \" + str(end_time - start_time)"
   ]
  },
  {
   "cell_type": "code",
   "execution_count": 8,
   "metadata": {
    "collapsed": false
   },
   "outputs": [
    {
     "name": "stdout",
     "output_type": "stream",
     "text": [
      "Time taken (in seconds) = 1.89874100685\n"
     ]
    }
   ],
   "source": [
    "start_time = time()\n",
    "mapped_data = file_rdd.map(lambda x: 2*x).collect()\n",
    "end_time = time()\n",
    "print \"Time taken (in seconds) = \" + str(end_time - start_time)"
   ]
  },
  {
   "cell_type": "code",
   "execution_count": 9,
   "metadata": {
    "collapsed": false
   },
   "outputs": [
    {
     "name": "stdout",
     "output_type": "stream",
     "text": [
      "<class 'pyspark.rdd.PipelinedRDD'>\n",
      "<type 'list'>\n",
      "<class 'pyspark.rdd.PipelinedRDD'>\n",
      "<type 'list'>\n",
      "Conclusion: RDDs are lazy. They do nothing unless there is an action is called.\n"
     ]
    }
   ],
   "source": [
    "print type(filtered_rdd)\n",
    "print type(filtered_data)\n",
    "print type(mapped_rdd)\n",
    "print type(mapped_data)\n",
    "print \"Conclusion: RDDs are lazy. They do nothing unless there is an action is called.\""
   ]
  },
  {
   "cell_type": "code",
   "execution_count": 10,
   "metadata": {
    "collapsed": false
   },
   "outputs": [
    {
     "name": "stdout",
     "output_type": "stream",
     "text": [
      "10\n",
      "Time taken (in seconds) = 0.0601301193237\n"
     ]
    }
   ],
   "source": [
    "start_time = time()\n",
    "print len(file_rdd.map(lambda x: 2*x).filter(lambda x: len(x)>1).take(10))\n",
    "end_time = time()\n",
    "print \"Time taken (in seconds) = \" + str(end_time - start_time)"
   ]
  },
  {
   "cell_type": "code",
   "execution_count": 11,
   "metadata": {
    "collapsed": false
   },
   "outputs": [
    {
     "name": "stdout",
     "output_type": "stream",
     "text": [
      "100000\n",
      "Time taken (in seconds) = 0.381473064423\n"
     ]
    }
   ],
   "source": [
    "start_time = time()\n",
    "print len(file_rdd.map(lambda x: 2*x).filter(lambda x: len(x)>1).take(100000))\n",
    "end_time = time()\n",
    "print \"Time taken (in seconds) = \" + str(end_time - start_time)"
   ]
  },
  {
   "cell_type": "code",
   "execution_count": 12,
   "metadata": {
    "collapsed": false
   },
   "outputs": [
    {
     "name": "stdout",
     "output_type": "stream",
     "text": [
      "1000000\n",
      "Time taken (in seconds) = 2.32122993469\n"
     ]
    }
   ],
   "source": [
    "start_time = time()\n",
    "print len(file_rdd.map(lambda x: 2*x).filter(lambda x: len(x)>1).collect())\n",
    "end_time = time()\n",
    "print \"Time taken (in seconds) = \" + str(end_time - start_time)"
   ]
  },
  {
   "cell_type": "code",
   "execution_count": 13,
   "metadata": {
    "collapsed": false
   },
   "outputs": [
    {
     "name": "stdout",
     "output_type": "stream",
     "text": [
      "Lazy is better.\n"
     ]
    }
   ],
   "source": [
    "print \"Lazy is better.\""
   ]
  },
  {
   "cell_type": "code",
   "execution_count": 14,
   "metadata": {
    "collapsed": false
   },
   "outputs": [
    {
     "name": "stdout",
     "output_type": "stream",
     "text": [
      "We want to count the number of 1, 2, ... digit numbers.\n",
      "[(1, 9), (2, 90), (3, 900), (4, 9000), (5, 90000), (6, 900000), (7, 9000000), (8, 1)]\n",
      "Time taken (in seconds) = 16.1457898617\n"
     ]
    }
   ],
   "source": [
    "start_time = time()\n",
    "print \"We want to count the number of 1, 2, ... digit numbers.\"\n",
    "big_file_path = \"data/big_sequence.txt\"\n",
    "big_rdd = sc.textFile(big_file_path) \n",
    "mapped_rdd = big_rdd.map(lambda a: (len(a), 1))\n",
    "count_rdd = mapped_rdd.reduceByKey(lambda a, b: a+b).sortByKey()\n",
    "print count_rdd.collect()\n",
    "end_time = time()\n",
    "print \"Time taken (in seconds) = \" + str(end_time - start_time)"
   ]
  },
  {
   "cell_type": "code",
   "execution_count": 15,
   "metadata": {
    "collapsed": false
   },
   "outputs": [
    {
     "name": "stdout",
     "output_type": "stream",
     "text": [
      "We want to collect the rdd.\n",
      "[(1, 9), (2, 90), (3, 900), (4, 9000), (5, 90000), (6, 900000), (7, 9000000), (8, 1)]\n",
      "Time taken (in seconds) = 0.141846179962\n"
     ]
    }
   ],
   "source": [
    "start_time = time()\n",
    "print \"We want to collect the rdd.\"\n",
    "print count_rdd.collect()\n",
    "end_time = time()\n",
    "print \"Time taken (in seconds) = \" + str(end_time - start_time)"
   ]
  },
  {
   "cell_type": "code",
   "execution_count": 16,
   "metadata": {
    "collapsed": false
   },
   "outputs": [
    {
     "name": "stdout",
     "output_type": "stream",
     "text": [
      "We want to count the number of 1, 2, ... digit numbers.\n",
      "[[1 1]\n",
      " [1 1]]\n",
      "Time taken (in seconds) = 8.58309221268\n"
     ]
    }
   ],
   "source": [
    "start_time = time()\n",
    "print \"We want to count the number of 1, 2, ... digit numbers.\"\n",
    "mapped_data = np.asarray(map(lambda a: (len(a), 1), file_rdd.collect()))\n",
    "print mapped_data[:2]\n",
    "# count_map = mapped_rdd.reduceByKey(lambda a, b: a+b).sortByKey().collect()\n",
    "# print count_map\n",
    "end_time = time()\n",
    "print \"Time taken (in seconds) = \" + str(end_time - start_time)"
   ]
  }
 ],
 "metadata": {
  "kernelspec": {
   "display_name": "Python 2",
   "language": "python",
   "name": "python2"
  },
  "language_info": {
   "codemirror_mode": {
    "name": "ipython",
    "version": 2
   },
   "file_extension": ".py",
   "mimetype": "text/x-python",
   "name": "python",
   "nbconvert_exporter": "python",
   "pygments_lexer": "ipython2",
   "version": "2.7.6"
  }
 },
 "nbformat": 4,
 "nbformat_minor": 0
}
